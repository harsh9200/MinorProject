{
 "cells": [
  {
   "cell_type": "code",
   "execution_count": 13,
   "source": [
    "import pydicom\r\n",
    "from glob import glob\r\n",
    "import pandas as pd\r\n",
    "import matplotlib.pyplot as plt"
   ],
   "outputs": [],
   "metadata": {}
  },
  {
   "cell_type": "code",
   "execution_count": 9,
   "source": [
    "DF = pd.read_csv('Data\\stage_2_train.csv')"
   ],
   "outputs": [],
   "metadata": {}
  },
  {
   "cell_type": "code",
   "execution_count": 10,
   "source": [
    "def show_info(dataset, file_path):\r\n",
    "    print(\"Filename......:\", file_path)\r\n",
    "    print(\"Storage type.....:\", dataset.SOPClassUID)\r\n",
    "    print()\r\n",
    "\r\n",
    "    pat_name = dataset.PatientName\r\n",
    "    display_name = pat_name.family_name + \", \" + pat_name.given_name\r\n",
    "    print(\"Patient's name......:\", display_name)\r\n",
    "    print(\"Patient id..........:\", dataset.PatientID)\r\n",
    "    print(\"Patient's Age.......:\", dataset.PatientAge)\r\n",
    "    print(\"Patient's Sex.......:\", dataset.PatientSex)\r\n",
    "    print(\"Modality............:\", dataset.Modality)\r\n",
    "    print(\"Body Part Examined..:\", dataset.BodyPartExamined)\r\n",
    "    print(\"View Position.......:\", dataset.ViewPosition)\r\n",
    "    \r\n",
    "    if 'PixelData' in dataset:\r\n",
    "        rows = int(dataset.Rows)\r\n",
    "        cols = int(dataset.Columns)\r\n",
    "        print(\"Image size.......: {rows:d} x {cols:d}, {size:d} bytes\".format(\r\n",
    "            rows=rows, cols=cols, size=len(dataset.PixelData)))\r\n",
    "        if 'PixelSpacing' in dataset:\r\n",
    "            print(\"Pixel spacing....:\", dataset.PixelSpacing)\r\n",
    "\r\n",
    "def plot_pixels(dataset, figsize=(8,8)):\r\n",
    "    plt.figure(figsize=figsize)\r\n",
    "    plt.imshow(dataset.pixel_array, cmap=plt.cm.bone)\r\n",
    "    plt.show()"
   ],
   "outputs": [],
   "metadata": {}
  },
  {
   "cell_type": "code",
   "execution_count": 14,
   "source": [
    "Files = glob('Data/stage_2_images/*')"
   ],
   "outputs": [],
   "metadata": {}
  },
  {
   "cell_type": "code",
   "execution_count": null,
   "source": [],
   "outputs": [],
   "metadata": {}
  },
  {
   "cell_type": "code",
   "execution_count": 20,
   "source": [
    "file_path = Files[1005]\r\n",
    "data = pydicom.dcmread(file_path)\r\n",
    "# show_info(data, file_path)\r\n",
    "# plot_pixels(data)"
   ],
   "outputs": [],
   "metadata": {}
  },
  {
   "cell_type": "code",
   "execution_count": null,
   "source": [
    "missing = 0\r\n",
    "multiple = 0\r\n",
    "patients_data = []\r\n",
    "for k, paths in enumerate(Files):\r\n",
    "    patient = {}\r\n",
    "    img_id = paths.split('/')[-1]\r\n",
    "    data = pydicom.dcmread(paths)\r\n",
    "    try:\r\n",
    "        tmp = df[df['ImageId'] == '.'.join(img_id.split('.')[:-1])]\r\n",
    "        \r\n",
    "        if tmp.shape[0] > 1: \r\n",
    "            multiple += 1\r\n",
    "        rle = tmp[' EncodedPixels'].values\r\n",
    "        if rle[0] == '-1':\r\n",
    "            pixels = rle[0]\r\n",
    "        else:    \r\n",
    "            pixels = [i for i in rle]\r\n",
    "        \r\n",
    "        patient[\"UID\"] = data.SOPInstanceUID\r\n",
    "        patient['EncodedPixels'] = pixels\r\n",
    "        patient[\"Age\"] = data.PatientAge\r\n",
    "        patient[\"Sex\"] = data.PatientSex\r\n",
    "        patient[\"Modality\"] = data.Modality\r\n",
    "        patient[\"BodyPart\"] = data.BodyPartExamined\r\n",
    "        patient[\"ViewPosition\"] = data.ViewPosition\r\n",
    "        patient[\"filepath\"] = paths\r\n",
    "        patients_data.append(patient)\r\n",
    "    except:\r\n",
    "        missing += 1\r\n",
    "\r\n",
    "print(f'We have {missing} dicom in folder which is not present in csv')\r\n",
    "print(f'There are {multiple} images with more than 1 annotation')\r\n",
    "df_patients = pd.DataFrame(patients_data, columns=[\"UID\", \"EncodedPixels\", \"Age\", \r\n",
    "                            \"Sex\", \"Modality\", \"BodyPart\", \"ViewPosition\", \"filepath\"])\r\n",
    "\r\n",
    "df_patients['Pneumothorax'] = df_patients['EncodedPixels'].apply(lambda x:0 if x == '-1' else 1)\r\n",
    "df_patients['Pneumothorax'] = df_patients['Pneumothorax'].astype('int')\r\n",
    "print(\"images with labels: \", df_patients.shape[0])\r\n",
    "df_patients.head()    "
   ],
   "outputs": [],
   "metadata": {}
  }
 ],
 "metadata": {
  "orig_nbformat": 4,
  "language_info": {
   "name": "python",
   "version": "3.8.8",
   "mimetype": "text/x-python",
   "codemirror_mode": {
    "name": "ipython",
    "version": 3
   },
   "pygments_lexer": "ipython3",
   "nbconvert_exporter": "python",
   "file_extension": ".py"
  },
  "kernelspec": {
   "name": "python3",
   "display_name": "Python 3.8.8 64-bit"
  },
  "interpreter": {
   "hash": "4e62dfee219ae7e452604fcca99c56546aa27928034bac5940f1688cb6947c84"
  }
 },
 "nbformat": 4,
 "nbformat_minor": 2
}